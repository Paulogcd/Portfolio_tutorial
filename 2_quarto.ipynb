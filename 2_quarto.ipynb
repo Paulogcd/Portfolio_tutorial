{
  "cells": [
    {
      "cell_type": "raw",
      "metadata": {},
      "source": [
        "---\n",
        "title: \"2. Introduction to Quarto\"\n",
        "---"
      ],
      "id": "05a2b21e"
    },
    {
      "cell_type": "markdown",
      "metadata": {},
      "source": [
        "Now that we know how to use Git and Github together, it is time for us to use Quarto. \n",
        "\n",
        "## Installation of Quarto\n",
        "\n",
        "The first step of this chapter is to download Quarto [here](https://quarto.org/docs/get-started/).\n",
        "\n",
        "![Installation page of Quarto](./resources/images/2_1_install_quarto.png)\n",
        "\n",
        "\n",
        "## Create a Quarto project\n",
        "\n",
        "The second step is to create a quarto project in your folder (the one you synchronized with your online GitHub repository). In order to do that, you can go in vscode, and enter in the terminal `quarto create`. You will then be guided with several questions regarding the nature of the project you wish to create. For the purpose of creating a portfolio, I would recommend to choose to create a website. \n",
        "\n",
        "![Add image with the menu choices of quarto when creating a project.](./resources/images/0_Default_image.png)\n",
        "\n",
        "Once the creation process is done, you will see appear in your folder several files : index.qmd, about.qmd, _quarto.yml, style.css. \n",
        "\n",
        "Let's take a moment to see what they do : \n",
        "\n",
        "1. The files with a \".css\" extension are Cascading Style Sheets (css) files. Together with HTML, they are one of the main langages for web development. They are mainly responsisble for the appearance and design of websites. It is not necessary to modify them for the purpose of this tutorial, but you can inform yourself about it [on this tutorial](https://www.w3schools.com/css/).\n",
        "2. The files with a \".qmd\" extension are quarto files. This extension stands for Quarto MarkDown. They correspond to what the future pages of your website will be. They support various langages, like markup or $\\LaTeX$. We will modify our portfolio pages by modifying these pages. \n",
        "3. The files with a \".yml\" extension are configuration files. We use them to set some rules that quarto will apply to generate our pages. For example, we will modify the navigation bar (or navbar) through our .yml files later in this chapter.\n",
        "\n",
        "## The preview and render commands\n",
        "\n",
        "Quarto allows us to create a properly designed website by only interacting with basic qmd files. We need however to see what results they yield. \n",
        "\n",
        "To see the graphical result, we need to use two main commands : the `quarto preview` and `quarto render` commands.\n",
        "\n",
        "The `quarto preview` command allows to see in real time what the changes we are bringing to our qmd and yml files yield. After entering it in the terminal console, it automatically opens a page on your browser where you can see the graphical resutls. We usually use it at the beginning of a work session, when we bring change to our portfolio. For the changes to be actualised, you nedd to save your files. \n",
        "\n",
        "The `quarto render` command allows to create html and css files from our qmd and yml files. We usually use it at the end of a work session, when we are satisfied with the changes we brought to the our website. Essentially, it does the same as the `preview` command, without opening a browser to see your changes in real time. \n",
        "\n",
        "## How to modify our content\n",
        "\n",
        "- text\n",
        "- links\n",
        "- pages\n",
        "- pictures\n",
        "- other documents\n",
        "\n",
        "## How to modify the navigation bar\n",
        "\n",
        "An essential element of the website is the navigation bar. In Quarto, it is automatically displayed in all your pages, and you can only modify it in your `_quarto.yml` file. Let's take a look at it : \n",
        "\n",
        "\n",
        "```{yml}\n",
        "TEST\n",
        "```\n",
        "\n",
        "\n",
        "##\n",
        "<tab><tab>code/text here"
      ],
      "id": "7ca338e5"
    }
  ],
  "metadata": {
    "kernelspec": {
      "display_name": "Python 3",
      "language": "python",
      "name": "python3"
    }
  },
  "nbformat": 4,
  "nbformat_minor": 5
}